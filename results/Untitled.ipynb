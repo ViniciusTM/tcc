{
 "cells": [
  {
   "cell_type": "code",
   "execution_count": 137,
   "metadata": {},
   "outputs": [],
   "source": [
    "import pandas as pd\n",
    "import math"
   ]
  },
  {
   "cell_type": "code",
   "execution_count": 113,
   "metadata": {},
   "outputs": [],
   "source": [
    "hc = pd.read_csv('HC.txt', sep=' ', index_col=['G', 'N', 'M'])\n",
    "ps = pd.read_csv('PS.txt', sep=' ', index_col=['G', 'N', 'M'])\n",
    "sd = pd.read_csv('SD.txt', sep=' ', index_col=['G', 'N', 'M'])\n",
    "sn = pd.read_csv('SN.txt', sep=' ', index_col=['G', 'N', 'M'])\n",
    "snp = pd.read_csv('SN+.txt', sep=' ', index_col=['G', 'N', 'M'])"
   ]
  },
  {
   "cell_type": "code",
   "execution_count": 114,
   "metadata": {},
   "outputs": [],
   "source": [
    "data = pd.DataFrame(index=hc.index)\n",
    "data['HC'] = hc['OF']\n",
    "data['PS'] = ps['OF']\n",
    "data['SD'] = sd['OF']\n",
    "data['SN+'] = snp['OF']\n",
    "data['SN'] = sn['OF']\n",
    "data['best'] = data.min(axis=1)"
   ]
  },
  {
   "cell_type": "code",
   "execution_count": 115,
   "metadata": {},
   "outputs": [],
   "source": [
    "count = data.copy()\n",
    "count['HC'] = data['HC'] == data['best']\n",
    "count['PS'] = data['PS'] == data['best']\n",
    "count['SD'] = data['SD'] == data['best']\n",
    "count['SN+'] = data['SN+'] == data['best']\n",
    "count['SN'] = data['SN'] == data['best']"
   ]
  },
  {
   "cell_type": "code",
   "execution_count": 190,
   "metadata": {},
   "outputs": [
    {
     "name": "stdout",
     "output_type": "stream",
     "text": [
      "\\begin{tabular}{llrrrrrrrrrr}\n",
      "\\toprule\n",
      "    & \\textbf{G} & \\multicolumn{5}{l}{1} & \\multicolumn{5}{l}{2} \\\\\n",
      "    & {} &  HC &  PS &  SD & SN & SN+ &  HC &  PS &  SD & SN & SN+ \\\\\n",
      "\\textbf{N} & \\textbf{M} &     &     &     &    &     &     &     &     &    &     \\\\\n",
      "\\midrule\n",
      "\\textbf{20 } & \\textbf{12 } &  64 &  38 &  40 &  2 &  10 &  46 &  50 &  18 &  0 &  10 \\\\\n",
      "    & \\textbf{20 } &  52 &  26 &  46 &  0 &  12 &  62 &  32 &  26 &  0 &   2 \\\\\n",
      "    & \\textbf{28 } &  52 &  36 &  32 &  0 &   2 &  64 &  24 &  46 &  0 &   0 \\\\\n",
      "\\textbf{40 } & \\textbf{24 } &  76 &   6 &  50 &  0 &   0 &  70 &  16 &  40 &  0 &   2 \\\\\n",
      "    & \\textbf{40 } &  60 &  12 &  42 &  0 &   2 &  66 &  18 &  40 &  0 &   0 \\\\\n",
      "    & \\textbf{56 } &  74 &   6 &  42 &  0 &   0 &  62 &  18 &  42 &  0 &   0 \\\\\n",
      "\\textbf{80 } & \\textbf{48 } &  70 &   0 &  52 &  0 &   6 &  74 &   0 &  56 &  0 &   2 \\\\\n",
      "    & \\textbf{80 } &  64 &   2 &  50 &  0 &   0 &  74 &   0 &  46 &  0 &   4 \\\\\n",
      "    & \\textbf{112} &  64 &   0 &  52 &  0 &   0 &  57 &   2 &  64 &  0 &   0 \\\\\n",
      "\\textbf{100} & \\textbf{60 } &  78 &   0 &  46 &  0 &   0 &  70 &   0 &  48 &  0 &   0 \\\\\n",
      "    & \\textbf{100} &  64 &   0 &  64 &  0 &   0 &  74 &   0 &  48 &  0 &   0 \\\\\n",
      "    & \\textbf{140} &  60 &   2 &  57 &  0 &   2 &  50 &   0 &  56 &  0 &   2 \\\\\n",
      "\\bottomrule\n",
      "\\end{tabular}\n",
      "\n"
     ]
    }
   ],
   "source": [
    "count_result = count.groupby(level=[0,1,2]).sum()[['SN', 'SN+', 'SD', 'PS', 'HC']] / 50 * 100\n",
    "count_result = count_result.astype(int)\n",
    "print(count_result.unstack(0).swaplevel(0,1,axis=1).sort_index(axis=1).to_latex(bold_rows=True, formatt))\n",
    "# print(count_result[count_result.index.get_level_values(0) == 1].reset_index(level=0, drop=True).to_latex(bold_rows=True))\n",
    "# print(count_result[count_result.index.get_level_values(0) == 2].reset_index(level=0, drop=True).to_latex(bold_rows=True))"
   ]
  },
  {
   "cell_type": "code",
   "execution_count": 193,
   "metadata": {},
   "outputs": [
    {
     "name": "stdout",
     "output_type": "stream",
     "text": [
      "\\begin{tabular}{llllllllllll}\n",
      "\\toprule\n",
      "    & \\textbf{G} & \\multicolumn{5}{l}{1} & \\multicolumn{5}{l}{2} \\\\\n",
      "    & {} &       HC &       PS &       SD &       SN &      SN+ &       HC &       PS &       SD &       SN &      SN+ \\\\\n",
      "\\textbf{N} & \\textbf{M} &          &          &          &          &          &          &          &          &          &          \\\\\n",
      "\\midrule\n",
      "\\textbf{20 } & \\textbf{12 } &  0.5±0.3 &  0.7±0.3 &  0.8±0.3 &  3.7±0.6 &  2.2±0.6 &  0.4±0.2 &  0.4±0.2 &  0.8±0.3 &  3.9±0.6 &  2.2±0.5 \\\\\n",
      "    & \\textbf{20 } &  0.4±0.2 &  0.9±0.3 &  0.4±0.2 &  5.2±0.6 &  2.5±0.5 &  0.4±0.2 &  1.1±0.4 &  0.5±0.2 &  4.6±0.5 &  2.3±0.4 \\\\\n",
      "    & \\textbf{28 } &  0.4±0.2 &  0.8±0.3 &  0.4±0.2 &  5.1±0.6 &  2.4±0.5 &  0.1±0.1 &  0.7±0.2 &  0.2±0.1 &  5.0±0.5 &  2.3±0.4 \\\\\n",
      "\\textbf{40 } & \\textbf{24 } &  0.0±0.0 &  1.2±0.3 &  0.1±0.1 &  2.5±0.3 &  1.7±0.3 &  0.1±0.1 &  1.0±0.3 &  0.2±0.1 &  2.6±0.3 &  1.6±0.3 \\\\\n",
      "    & \\textbf{40 } &  0.0±0.0 &  1.2±0.2 &  0.1±0.0 &  3.0±0.3 &  1.7±0.3 &  0.1±0.1 &  0.9±0.2 &  0.1±0.1 &  2.8±0.2 &  1.5±0.2 \\\\\n",
      "    & \\textbf{56 } &  0.0±0.0 &  1.1±0.2 &  0.0±0.0 &  3.5±0.2 &  1.8±0.2 &  0.1±0.0 &  0.9±0.2 &  0.1±0.0 &  3.2±0.2 &  1.5±0.2 \\\\\n",
      "\\textbf{80 } & \\textbf{48 } &  0.0±0.0 &  1.1±0.2 &  0.0±0.0 &  1.6±0.2 &  1.0±0.2 &  0.0±0.0 &  1.1±0.2 &  0.0±0.0 &  1.6±0.2 &  0.9±0.2 \\\\\n",
      "    & \\textbf{80 } &  0.0±0.0 &  1.1±0.2 &  0.0±0.0 &  2.0±0.2 &  1.1±0.2 &  0.0±0.0 &  1.2±0.2 &  0.0±0.0 &  2.0±0.1 &  1.0±0.1 \\\\\n",
      "    & \\textbf{112} &  0.0±0.0 &  1.1±0.1 &  0.0±0.0 &  2.2±0.2 &  1.2±0.1 &  0.0±0.0 &  1.1±0.1 &  0.0±0.0 &  2.3±0.1 &  1.2±0.1 \\\\\n",
      "\\textbf{100} & \\textbf{60 } &  0.0±0.0 &  1.3±0.2 &  0.0±0.0 &  1.6±0.1 &  1.0±0.1 &  0.0±0.0 &  1.3±0.1 &  0.0±0.0 &  1.5±0.1 &  0.9±0.1 \\\\\n",
      "    & \\textbf{100} &  0.0±0.0 &  1.1±0.1 &  0.0±0.0 &  1.8±0.1 &  1.0±0.1 &  0.0±0.0 &  1.3±0.1 &  0.0±0.0 &  1.7±0.1 &  1.0±0.1 \\\\\n",
      "    & \\textbf{140} &  0.0±0.0 &  1.0±0.1 &  0.0±0.0 &  1.9±0.1 &  0.9±0.1 &  0.0±0.0 &  0.9±0.1 &  0.0±0.0 &  1.8±0.1 &  0.9±0.1 \\\\\n",
      "\\bottomrule\n",
      "\\end{tabular}\n",
      "\n"
     ]
    }
   ],
   "source": [
    "gap = data.copy()\n",
    "gap['HC'] = (data['HC'] - data['best'])  / data['best'] * 100\n",
    "gap['PS'] = (data['PS'] - data['best']) / data['best'] * 100\n",
    "gap['SD'] = (data['SD'] - data['best']) / data['best'] * 100\n",
    "gap['SN+'] = (data['SN+'] - data['best']) / data['best'] * 100\n",
    "gap['SN'] = (data['SN'] - data['best']) / data['best'] * 100\n",
    "\n",
    "idx = gap.index.unique()\n",
    "gap_result = pd.DataFrame(index=idx)\n",
    "\n",
    "\n",
    "for col in ['SN', 'SN+', 'SD', 'PS', 'HC']:\n",
    "    df = gap[col].copy()    \n",
    "    df = df.groupby(df.index, sort=False).agg(['mean', 'std'])\n",
    "    df[col] = df['mean'].map('{:.1f}'.format) + \"±\" + (1.96*df['std']/math.sqrt(50)).map('{:.1f}'.format)\n",
    "    gap_result[col] = df[col].values    \n",
    "    \n",
    "gap_result = gap_result.sort_index()\n",
    "print(gap_result.unstack(0).swaplevel(0,1,axis=1).sort_index(axis=1).to_latex(bold_rows=True))\n",
    "\n",
    "#print(gap_result[gap_result.index.get_level_values(0) == 1]\n",
    "#print(gap_result[gap_result.index.get_level_values(0) == 2].reset_index(level=0, drop=True).to_latex(bold_r.reset_index(level=0, drop=True).to_latex(bold_rows=True))ows=True))"
   ]
  },
  {
   "cell_type": "code",
   "execution_count": 3,
   "metadata": {},
   "outputs": [],
   "source": [
    "lg = pd.read_csv('LG_G1.txt').set_index(['N', 'M', 'I']).sort_index()\n",
    "lp = pd.read_csv('LP_PV_G1.txt').set_index(['N', 'M', 'I']).sort_index()\n",
    "mip = pd.read_csv('MIP_PV_G1.txt').set_index(['N', 'M', 'I']).sort_index()\n",
    "\n",
    "lg.to_csv('lg.csv')\n",
    "lp.to_csv('lp.csv')\n",
    "mip.to_csv('mip.csv')"
   ]
  },
  {
   "cell_type": "code",
   "execution_count": 3,
   "metadata": {},
   "outputs": [],
   "source": [
    "final = pd.concat([lg[['LB', 'UB']], lp['LB'], mip[['LB', 'UB']]], axis=1)\n",
    "final.columns = ['Lag LB', 'Lag UB', 'LP LB', 'MIP LB', 'MIP UB']\n",
    "final['UB*'] = final[['Lag UB', 'MIP UB']].min(axis=1)\n",
    "\n",
    "\n",
    "\n",
    "final['Lag gap'] = (final['UB*'] - final['Lag LB'])/final['UB*']\n",
    "final['LP gap'] = (final['UB*'] - final['LP LB'])/final['UB*']\n",
    "final['MIP gap'] = (final['UB*'] - final['MIP LB'])/final['UB*']\n",
    "\n",
    "final = final[['LP gap', 'MIP gap', 'Lag gap']]\n",
    "final.round(4)\n",
    "final.round(4).to_csv('results.csv')"
   ]
  },
  {
   "cell_type": "code",
   "execution_count": 28,
   "metadata": {},
   "outputs": [],
   "source": [
    "count = 0\n",
    "results = {}\n",
    "with open('LG_LOG_G1.txt') as file:\n",
    "    line = file.readline()\n",
    "    while line:\n",
    "        n,m,k = line.split(',')\n",
    "        result = []\n",
    "        line = file.readline()\n",
    "        while line != 'end\\n':\n",
    "            i,j,l = line.strip().split(',')\n",
    "            result.append({'i':int(i), 'j':int(j), 'lambda':float(l)})\n",
    "            line = file.readline()\n",
    "                \n",
    "        results[(int(n),int(m),int(k))] = result\n",
    "        line = file.readline()"
   ]
  },
  {
   "cell_type": "code",
   "execution_count": 63,
   "metadata": {},
   "outputs": [
    {
     "data": {
      "text/html": [
       "<div>\n",
       "<style scoped>\n",
       "    .dataframe tbody tr th:only-of-type {\n",
       "        vertical-align: middle;\n",
       "    }\n",
       "\n",
       "    .dataframe tbody tr th {\n",
       "        vertical-align: top;\n",
       "    }\n",
       "\n",
       "    .dataframe thead th {\n",
       "        text-align: right;\n",
       "    }\n",
       "</style>\n",
       "<table border=\"1\" class=\"dataframe\">\n",
       "  <thead>\n",
       "    <tr style=\"text-align: right;\">\n",
       "      <th></th>\n",
       "      <th>j</th>\n",
       "      <th>lambda</th>\n",
       "    </tr>\n",
       "    <tr>\n",
       "      <th>i</th>\n",
       "      <th></th>\n",
       "      <th></th>\n",
       "    </tr>\n",
       "  </thead>\n",
       "  <tbody>\n",
       "    <tr>\n",
       "      <th>31</th>\n",
       "      <td>137</td>\n",
       "      <td>0.000269</td>\n",
       "    </tr>\n",
       "    <tr>\n",
       "      <th>25</th>\n",
       "      <td>154</td>\n",
       "      <td>0.000333</td>\n",
       "    </tr>\n",
       "    <tr>\n",
       "      <th>28</th>\n",
       "      <td>127</td>\n",
       "      <td>0.260469</td>\n",
       "    </tr>\n",
       "    <tr>\n",
       "      <th>27</th>\n",
       "      <td>22</td>\n",
       "      <td>0.399911</td>\n",
       "    </tr>\n",
       "    <tr>\n",
       "      <th>24</th>\n",
       "      <td>32</td>\n",
       "      <td>0.414302</td>\n",
       "    </tr>\n",
       "    <tr>\n",
       "      <th>29</th>\n",
       "      <td>73</td>\n",
       "      <td>0.499740</td>\n",
       "    </tr>\n",
       "    <tr>\n",
       "      <th>30</th>\n",
       "      <td>106</td>\n",
       "      <td>0.500140</td>\n",
       "    </tr>\n",
       "    <tr>\n",
       "      <th>20</th>\n",
       "      <td>49</td>\n",
       "      <td>0.539686</td>\n",
       "    </tr>\n",
       "    <tr>\n",
       "      <th>23</th>\n",
       "      <td>103</td>\n",
       "      <td>0.599118</td>\n",
       "    </tr>\n",
       "    <tr>\n",
       "      <th>21</th>\n",
       "      <td>24</td>\n",
       "      <td>0.604639</td>\n",
       "    </tr>\n",
       "    <tr>\n",
       "      <th>22</th>\n",
       "      <td>24</td>\n",
       "      <td>0.869810</td>\n",
       "    </tr>\n",
       "    <tr>\n",
       "      <th>26</th>\n",
       "      <td>38</td>\n",
       "      <td>0.969730</td>\n",
       "    </tr>\n",
       "  </tbody>\n",
       "</table>\n",
       "</div>"
      ],
      "text/plain": [
       "      j    lambda\n",
       "i                \n",
       "31  137  0.000269\n",
       "25  154  0.000333\n",
       "28  127  0.260469\n",
       "27   22  0.399911\n",
       "24   32  0.414302\n",
       "29   73  0.499740\n",
       "30  106  0.500140\n",
       "20   49  0.539686\n",
       "23  103  0.599118\n",
       "21   24  0.604639\n",
       "22   24  0.869810\n",
       "26   38  0.969730"
      ]
     },
     "execution_count": 63,
     "metadata": {},
     "output_type": "execute_result"
    }
   ],
   "source": [
    "data = pd.DataFrame(results[(20, 12, 0)])\n",
    "data['i'] = data['i']  + 20\n",
    "data.groupby('i').sum().sort_values(by='lambda')"
   ]
  },
  {
   "cell_type": "code",
   "execution_count": 27,
   "metadata": {},
   "outputs": [
    {
     "data": {
      "text/plain": [
       "dict_keys([(10, 6, 5), (10, 10, 9), (10, 14, 13), (20, 12, 11), (20, 20, 19), (20, 28, 27), (40, 24, 23), (40, 40, 39), (40, 56, 55)])"
      ]
     },
     "execution_count": 27,
     "metadata": {},
     "output_type": "execute_result"
    }
   ],
   "source": [
    "results.keys()"
   ]
  }
 ],
 "metadata": {
  "kernelspec": {
   "display_name": "Python 3",
   "language": "python",
   "name": "python3"
  },
  "language_info": {
   "codemirror_mode": {
    "name": "ipython",
    "version": 3
   },
   "file_extension": ".py",
   "mimetype": "text/x-python",
   "name": "python",
   "nbconvert_exporter": "python",
   "pygments_lexer": "ipython3",
   "version": "3.6.8"
  }
 },
 "nbformat": 4,
 "nbformat_minor": 2
}
