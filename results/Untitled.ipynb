{
 "cells": [
  {
   "cell_type": "code",
   "execution_count": 1,
   "metadata": {},
   "outputs": [],
   "source": [
    "import pandas as pd\n",
    "import math"
   ]
  },
  {
   "cell_type": "code",
   "execution_count": 113,
   "metadata": {},
   "outputs": [],
   "source": [
    "hc = pd.read_csv('HC.txt', sep=' ', index_col=['G', 'N', 'M'])\n",
    "ps = pd.read_csv('PS.txt', sep=' ', index_col=['G', 'N', 'M'])\n",
    "sd = pd.read_csv('SD.txt', sep=' ', index_col=['G', 'N', 'M'])\n",
    "sn = pd.read_csv('SN.txt', sep=' ', index_col=['G', 'N', 'M'])\n",
    "snp = pd.read_csv('SN+.txt', sep=' ', index_col=['G', 'N', 'M'])"
   ]
  },
  {
   "cell_type": "code",
   "execution_count": 114,
   "metadata": {},
   "outputs": [],
   "source": [
    "data = pd.DataFrame(index=hc.index)\n",
    "data['HC'] = hc['OF']\n",
    "data['PS'] = ps['OF']\n",
    "data['SD'] = sd['OF']\n",
    "data['SN+'] = snp['OF']\n",
    "data['SN'] = sn['OF']\n",
    "data['best'] = data.min(axis=1)"
   ]
  },
  {
   "cell_type": "code",
   "execution_count": 115,
   "metadata": {},
   "outputs": [],
   "source": [
    "count = data.copy()\n",
    "count['HC'] = data['HC'] == data['best']\n",
    "count['PS'] = data['PS'] == data['best']\n",
    "count['SD'] = data['SD'] == data['best']\n",
    "count['SN+'] = data['SN+'] == data['best']\n",
    "count['SN'] = data['SN'] == data['best']"
   ]
  },
  {
   "cell_type": "code",
   "execution_count": 190,
   "metadata": {},
   "outputs": [
    {
     "name": "stdout",
     "output_type": "stream",
     "text": [
      "\\begin{tabular}{llrrrrrrrrrr}\n",
      "\\toprule\n",
      "    & \\textbf{G} & \\multicolumn{5}{l}{1} & \\multicolumn{5}{l}{2} \\\\\n",
      "    & {} &  HC &  PS &  SD & SN & SN+ &  HC &  PS &  SD & SN & SN+ \\\\\n",
      "\\textbf{N} & \\textbf{M} &     &     &     &    &     &     &     &     &    &     \\\\\n",
      "\\midrule\n",
      "\\textbf{20 } & \\textbf{12 } &  64 &  38 &  40 &  2 &  10 &  46 &  50 &  18 &  0 &  10 \\\\\n",
      "    & \\textbf{20 } &  52 &  26 &  46 &  0 &  12 &  62 &  32 &  26 &  0 &   2 \\\\\n",
      "    & \\textbf{28 } &  52 &  36 &  32 &  0 &   2 &  64 &  24 &  46 &  0 &   0 \\\\\n",
      "\\textbf{40 } & \\textbf{24 } &  76 &   6 &  50 &  0 &   0 &  70 &  16 &  40 &  0 &   2 \\\\\n",
      "    & \\textbf{40 } &  60 &  12 &  42 &  0 &   2 &  66 &  18 &  40 &  0 &   0 \\\\\n",
      "    & \\textbf{56 } &  74 &   6 &  42 &  0 &   0 &  62 &  18 &  42 &  0 &   0 \\\\\n",
      "\\textbf{80 } & \\textbf{48 } &  70 &   0 &  52 &  0 &   6 &  74 &   0 &  56 &  0 &   2 \\\\\n",
      "    & \\textbf{80 } &  64 &   2 &  50 &  0 &   0 &  74 &   0 &  46 &  0 &   4 \\\\\n",
      "    & \\textbf{112} &  64 &   0 &  52 &  0 &   0 &  57 &   2 &  64 &  0 &   0 \\\\\n",
      "\\textbf{100} & \\textbf{60 } &  78 &   0 &  46 &  0 &   0 &  70 &   0 &  48 &  0 &   0 \\\\\n",
      "    & \\textbf{100} &  64 &   0 &  64 &  0 &   0 &  74 &   0 &  48 &  0 &   0 \\\\\n",
      "    & \\textbf{140} &  60 &   2 &  57 &  0 &   2 &  50 &   0 &  56 &  0 &   2 \\\\\n",
      "\\bottomrule\n",
      "\\end{tabular}\n",
      "\n"
     ]
    }
   ],
   "source": [
    "count_result = count.groupby(level=[0,1,2]).sum()[['SN', 'SN+', 'SD', 'PS', 'HC']] / 50 * 100\n",
    "count_result = count_result.astype(int)\n",
    "print(count_result.unstack(0).swaplevel(0,1,axis=1).sort_index(axis=1).to_latex(bold_rows=True, formatt))\n",
    "# print(count_result[count_result.index.get_level_values(0) == 1].reset_index(level=0, drop=True).to_latex(bold_rows=True))\n",
    "# print(count_result[count_result.index.get_level_values(0) == 2].reset_index(level=0, drop=True).to_latex(bold_rows=True))"
   ]
  },
  {
   "cell_type": "code",
   "execution_count": 193,
   "metadata": {},
   "outputs": [
    {
     "name": "stdout",
     "output_type": "stream",
     "text": [
      "\\begin{tabular}{llllllllllll}\n",
      "\\toprule\n",
      "    & \\textbf{G} & \\multicolumn{5}{l}{1} & \\multicolumn{5}{l}{2} \\\\\n",
      "    & {} &       HC &       PS &       SD &       SN &      SN+ &       HC &       PS &       SD &       SN &      SN+ \\\\\n",
      "\\textbf{N} & \\textbf{M} &          &          &          &          &          &          &          &          &          &          \\\\\n",
      "\\midrule\n",
      "\\textbf{20 } & \\textbf{12 } &  0.5±0.3 &  0.7±0.3 &  0.8±0.3 &  3.7±0.6 &  2.2±0.6 &  0.4±0.2 &  0.4±0.2 &  0.8±0.3 &  3.9±0.6 &  2.2±0.5 \\\\\n",
      "    & \\textbf{20 } &  0.4±0.2 &  0.9±0.3 &  0.4±0.2 &  5.2±0.6 &  2.5±0.5 &  0.4±0.2 &  1.1±0.4 &  0.5±0.2 &  4.6±0.5 &  2.3±0.4 \\\\\n",
      "    & \\textbf{28 } &  0.4±0.2 &  0.8±0.3 &  0.4±0.2 &  5.1±0.6 &  2.4±0.5 &  0.1±0.1 &  0.7±0.2 &  0.2±0.1 &  5.0±0.5 &  2.3±0.4 \\\\\n",
      "\\textbf{40 } & \\textbf{24 } &  0.0±0.0 &  1.2±0.3 &  0.1±0.1 &  2.5±0.3 &  1.7±0.3 &  0.1±0.1 &  1.0±0.3 &  0.2±0.1 &  2.6±0.3 &  1.6±0.3 \\\\\n",
      "    & \\textbf{40 } &  0.0±0.0 &  1.2±0.2 &  0.1±0.0 &  3.0±0.3 &  1.7±0.3 &  0.1±0.1 &  0.9±0.2 &  0.1±0.1 &  2.8±0.2 &  1.5±0.2 \\\\\n",
      "    & \\textbf{56 } &  0.0±0.0 &  1.1±0.2 &  0.0±0.0 &  3.5±0.2 &  1.8±0.2 &  0.1±0.0 &  0.9±0.2 &  0.1±0.0 &  3.2±0.2 &  1.5±0.2 \\\\\n",
      "\\textbf{80 } & \\textbf{48 } &  0.0±0.0 &  1.1±0.2 &  0.0±0.0 &  1.6±0.2 &  1.0±0.2 &  0.0±0.0 &  1.1±0.2 &  0.0±0.0 &  1.6±0.2 &  0.9±0.2 \\\\\n",
      "    & \\textbf{80 } &  0.0±0.0 &  1.1±0.2 &  0.0±0.0 &  2.0±0.2 &  1.1±0.2 &  0.0±0.0 &  1.2±0.2 &  0.0±0.0 &  2.0±0.1 &  1.0±0.1 \\\\\n",
      "    & \\textbf{112} &  0.0±0.0 &  1.1±0.1 &  0.0±0.0 &  2.2±0.2 &  1.2±0.1 &  0.0±0.0 &  1.1±0.1 &  0.0±0.0 &  2.3±0.1 &  1.2±0.1 \\\\\n",
      "\\textbf{100} & \\textbf{60 } &  0.0±0.0 &  1.3±0.2 &  0.0±0.0 &  1.6±0.1 &  1.0±0.1 &  0.0±0.0 &  1.3±0.1 &  0.0±0.0 &  1.5±0.1 &  0.9±0.1 \\\\\n",
      "    & \\textbf{100} &  0.0±0.0 &  1.1±0.1 &  0.0±0.0 &  1.8±0.1 &  1.0±0.1 &  0.0±0.0 &  1.3±0.1 &  0.0±0.0 &  1.7±0.1 &  1.0±0.1 \\\\\n",
      "    & \\textbf{140} &  0.0±0.0 &  1.0±0.1 &  0.0±0.0 &  1.9±0.1 &  0.9±0.1 &  0.0±0.0 &  0.9±0.1 &  0.0±0.0 &  1.8±0.1 &  0.9±0.1 \\\\\n",
      "\\bottomrule\n",
      "\\end{tabular}\n",
      "\n"
     ]
    }
   ],
   "source": [
    "gap = data.copy()\n",
    "gap['HC'] = (data['HC'] - data['best'])  / data['best'] * 100\n",
    "gap['PS'] = (data['PS'] - data['best']) / data['best'] * 100\n",
    "gap['SD'] = (data['SD'] - data['best']) / data['best'] * 100\n",
    "gap['SN+'] = (data['SN+'] - data['best']) / data['best'] * 100\n",
    "gap['SN'] = (data['SN'] - data['best']) / data['best'] * 100\n",
    "\n",
    "idx = gap.index.unique()\n",
    "gap_result = pd.DataFrame(index=idx)\n",
    "\n",
    "\n",
    "for col in ['SN', 'SN+', 'SD', 'PS', 'HC']:\n",
    "    df = gap[col].copy()    \n",
    "    df = df.groupby(df.index, sort=False).agg(['mean', 'std'])\n",
    "    df[col] = df['mean'].map('{:.1f}'.format) + \"±\" + (1.96*df['std']/math.sqrt(50)).map('{:.1f}'.format)\n",
    "    gap_result[col] = df[col].values    \n",
    "    \n",
    "gap_result = gap_result.sort_index()\n",
    "print(gap_result.unstack(0).swaplevel(0,1,axis=1).sort_index(axis=1).to_latex(bold_rows=True))\n",
    "\n",
    "#print(gap_result[gap_result.index.get_level_values(0) == 1]\n",
    "#print(gap_result[gap_result.index.get_level_values(0) == 2].reset_index(level=0, drop=True).to_latex(bold_r.reset_index(level=0, drop=True).to_latex(bold_rows=True))ows=True))"
   ]
  },
  {
   "cell_type": "code",
   "execution_count": 3,
   "metadata": {},
   "outputs": [],
   "source": [
    "lg = pd.read_csv('LG_G1.txt').set_index(['N', 'M', 'I']).sort_index()\n",
    "lp = pd.read_csv('LP_PV_G1.txt').set_index(['N', 'M', 'I']).sort_index()\n",
    "mip = pd.read_csv('MIP_PV_G1.txt').set_index(['N', 'M', 'I']).sort_index()\n",
    "\n",
    "lg.to_csv('lg.csv')\n",
    "lp.to_csv('lp.csv')\n",
    "mip.to_csv('mip.csv')"
   ]
  },
  {
   "cell_type": "code",
   "execution_count": 3,
   "metadata": {},
   "outputs": [],
   "source": [
    "final = pd.concat([lg[['LB', 'UB']], lp['LB'], mip[['LB', 'UB']]], axis=1)\n",
    "final.columns = ['Lag LB', 'Lag UB', 'LP LB', 'MIP LB', 'MIP UB']\n",
    "final['UB*'] = final[['Lag UB', 'MIP UB']].min(axis=1)\n",
    "\n",
    "\n",
    "\n",
    "final['Lag gap'] = (final['UB*'] - final['Lag LB'])/final['UB*']\n",
    "final['LP gap'] = (final['UB*'] - final['LP LB'])/final['UB*']\n",
    "final['MIP gap'] = (final['UB*'] - final['MIP LB'])/final['UB*']\n",
    "\n",
    "final = final[['LP gap', 'MIP gap', 'Lag gap']]\n",
    "final.round(4)\n",
    "final.round(4).to_csv('results.csv')"
   ]
  },
  {
   "cell_type": "code",
   "execution_count": 28,
   "metadata": {},
   "outputs": [],
   "source": [
    "count = 0\n",
    "results = {}\n",
    "with open('LG_LOG_G1.txt') as file:\n",
    "    line = file.readline()\n",
    "    while line:\n",
    "        n,m,k = line.split(',')\n",
    "        result = []\n",
    "        line = file.readline()\n",
    "        while line != 'end\\n':\n",
    "            i,j,l = line.strip().split(',')\n",
    "            result.append({'i':int(i), 'j':int(j), 'lambda':float(l)})\n",
    "            line = file.readline()\n",
    "                \n",
    "        results[(int(n),int(m),int(k))] = result\n",
    "        line = file.readline()"
   ]
  },
  {
   "cell_type": "code",
   "execution_count": 26,
   "metadata": {},
   "outputs": [
    {
     "ename": "NameError",
     "evalue": "name 'results' is not defined",
     "output_type": "error",
     "traceback": [
      "\u001b[0;31m---------------------------------------------------------------------------\u001b[0m",
      "\u001b[0;31mNameError\u001b[0m                                 Traceback (most recent call last)",
      "\u001b[0;32m<ipython-input-26-cbe8104ff2f1>\u001b[0m in \u001b[0;36m<module>\u001b[0;34m\u001b[0m\n\u001b[0;32m----> 1\u001b[0;31m \u001b[0mdata\u001b[0m \u001b[0;34m=\u001b[0m \u001b[0mpd\u001b[0m\u001b[0;34m.\u001b[0m\u001b[0mDataFrame\u001b[0m\u001b[0;34m(\u001b[0m\u001b[0mresults\u001b[0m\u001b[0;34m[\u001b[0m\u001b[0;34m(\u001b[0m\u001b[0;36m20\u001b[0m\u001b[0;34m,\u001b[0m \u001b[0;36m12\u001b[0m\u001b[0;34m,\u001b[0m \u001b[0;36m0\u001b[0m\u001b[0;34m)\u001b[0m\u001b[0;34m]\u001b[0m\u001b[0;34m)\u001b[0m\u001b[0;34m\u001b[0m\u001b[0;34m\u001b[0m\u001b[0m\n\u001b[0m\u001b[1;32m      2\u001b[0m \u001b[0mdata\u001b[0m\u001b[0;34m[\u001b[0m\u001b[0;34m'i'\u001b[0m\u001b[0;34m]\u001b[0m \u001b[0;34m=\u001b[0m \u001b[0mdata\u001b[0m\u001b[0;34m[\u001b[0m\u001b[0;34m'i'\u001b[0m\u001b[0;34m]\u001b[0m  \u001b[0;34m+\u001b[0m \u001b[0;36m20\u001b[0m\u001b[0;34m\u001b[0m\u001b[0;34m\u001b[0m\u001b[0m\n\u001b[1;32m      3\u001b[0m \u001b[0mdata\u001b[0m\u001b[0;34m.\u001b[0m\u001b[0mgroupby\u001b[0m\u001b[0;34m(\u001b[0m\u001b[0;34m'i'\u001b[0m\u001b[0;34m)\u001b[0m\u001b[0;34m.\u001b[0m\u001b[0msum\u001b[0m\u001b[0;34m(\u001b[0m\u001b[0;34m)\u001b[0m\u001b[0;34m.\u001b[0m\u001b[0msort_values\u001b[0m\u001b[0;34m(\u001b[0m\u001b[0mby\u001b[0m\u001b[0;34m=\u001b[0m\u001b[0;34m'lambda'\u001b[0m\u001b[0;34m)\u001b[0m\u001b[0;34m\u001b[0m\u001b[0;34m\u001b[0m\u001b[0m\n",
      "\u001b[0;31mNameError\u001b[0m: name 'results' is not defined"
     ]
    }
   ],
   "source": [
    "data = pd.DataFrame(results[(20, 12, 0)])\n",
    "data['i'] = data['i']  + 20\n",
    "data.groupby('i').sum().sort_values(by='lambda')"
   ]
  },
  {
   "cell_type": "code",
   "execution_count": 16,
   "metadata": {},
   "outputs": [],
   "source": [
    "lr = pd.read_csv('LR.txt', sep=' ', index_col=['G', 'N', 'M', 'I'])\n",
    "lp = pd.read_csv('LP.txt', sep=' ', index_col=['G', 'N', 'M', 'I'])\n",
    "ub = pd.read_csv('UB.txt', sep=' ', index_col=['G', 'N', 'M', 'I'])"
   ]
  },
  {
   "cell_type": "code",
   "execution_count": 45,
   "metadata": {},
   "outputs": [
    {
     "name": "stdout",
     "output_type": "stream",
     "text": [
      "\\begin{tabular}{llrrrr}\n",
      "\\toprule\n",
      "    & \\textbf{G} & \\multicolumn{2}{l}{1} & \\multicolumn{2}{l}{2} \\\\\n",
      "    & {} & Lag gap &  Lin LB & Lag gap &  Lin LB \\\\\n",
      "\\textbf{N} & \\textbf{M} &         &         &         &         \\\\\n",
      "\\midrule\n",
      "\\textbf{20 } & \\textbf{12 } &  13.861 &   0.559 &  14.471 &   0.000 \\\\\n",
      "    & \\textbf{20 } &  20.321 &   4.781 &  15.639 &   4.238 \\\\\n",
      "    & \\textbf{28 } &  16.429 &   2.981 &  22.292 &   4.227 \\\\\n",
      "\\textbf{40 } & \\textbf{24 } &  25.892 &   8.924 &  22.562 &   7.030 \\\\\n",
      "    & \\textbf{40 } &  18.659 &   5.213 &  28.625 &  12.021 \\\\\n",
      "    & \\textbf{56 } &  28.595 &  10.657 &  22.644 &   6.577 \\\\\n",
      "\\textbf{80 } & \\textbf{48 } &  25.670 &   9.614 &  23.820 &   7.777 \\\\\n",
      "    & \\textbf{80 } &  29.721 &  14.623 &  22.891 &   9.091 \\\\\n",
      "    & \\textbf{112} &  28.023 &  14.084 &  26.800 &  13.495 \\\\\n",
      "\\textbf{100} & \\textbf{60 } &  21.216 &   9.201 &  24.945 &  10.459 \\\\\n",
      "    & \\textbf{100} &  27.646 &  13.425 &  25.298 &  12.535 \\\\\n",
      "    & \\textbf{140} &  29.154 &       - &  29.692 &       - \\\\\n",
      "\\bottomrule\n",
      "\\end{tabular}\n",
      "\n"
     ]
    }
   ],
   "source": [
    "data = pd.DataFrame(index=lr.index)\n",
    "data['Lag gap'] = (ub['UB'] - lr['LB'])/ ub['UB'] * 100\n",
    "data['Lin LB'] = (ub['UB'] - lp['LB'])/ ub['UB'] * 100\n",
    "\n",
    "data = data.sort_index()[data.index.get_level_values(3) == 1].reset_index(level=3, drop=True).round(3)\n",
    "\n",
    "print(data.unstack(0).swaplevel(0,1,axis=1).sort_index(axis=1).to_latex(bold_rows=True, na_rep=\"-\"))"
   ]
  },
  {
   "cell_type": "code",
   "execution_count": 84,
   "metadata": {},
   "outputs": [
    {
     "name": "stdout",
     "output_type": "stream",
     "text": [
      "\\begin{tabular}{llrrrr}\n",
      "\\toprule\n",
      "    & \\textbf{G} & \\multicolumn{2}{l}{1} & \\multicolumn{2}{l}{2} \\\\\n",
      "    & {} &    max &    min &    max &    min \\\\\n",
      "\\textbf{N} & \\textbf{M} &        &        &        &        \\\\\n",
      "\\midrule\n",
      "\\textbf{20 } & \\textbf{12 } &  0.154 &  0.102 &  0.145 &  0.104 \\\\\n",
      "    & \\textbf{20 } &  0.165 &  0.134 &  0.166 &  0.119 \\\\\n",
      "    & \\textbf{28 } &  0.194 &  0.134 &  0.189 &  0.151 \\\\\n",
      "\\textbf{40 } & \\textbf{24 } &  0.205 &  0.142 &  0.180 &  0.123 \\\\\n",
      "    & \\textbf{40 } &  0.175 &  0.142 &  0.189 &  0.161 \\\\\n",
      "    & \\textbf{56 } &  0.201 &  0.132 &  0.172 &  0.156 \\\\\n",
      "\\textbf{80 } & \\textbf{48 } &  0.180 &  0.167 &  0.185 &  0.171 \\\\\n",
      "    & \\textbf{80 } &  0.177 &  0.152 &  0.186 &  0.152 \\\\\n",
      "    & \\textbf{112} &  0.196 &  0.162 &  0.176 &  0.154 \\\\\n",
      "\\textbf{100} & \\textbf{60 } &  0.177 &  0.132 &  0.169 &  0.162 \\\\\n",
      "    & \\textbf{100} &  0.164 &  0.156 &  0.153 &  0.146 \\\\\n",
      "    & \\textbf{140} &      - &      - &      - &      - \\\\\n",
      "\\bottomrule\n",
      "\\end{tabular}\n",
      "\n"
     ]
    }
   ],
   "source": [
    "data = pd.DataFrame(index=lr.index)\n",
    "data['Lag (LB - LB*)/LB*'] = (lp['LB'] - lr['LB']) / lp['LB']\n",
    "data = data.reset_index(level=3, drop=True)\n",
    "data = data.reset_index()\n",
    "\n",
    "data = data.groupby(['G', 'N', 'M']).agg(['min', 'max']).round(3)\n",
    "data.columns = ['min', 'max']\n",
    "\n",
    "#data = data.sort_index()[data.index.get_level_values(3) == 1].reset_index(level=3, drop=True).round(3)\n",
    "\n",
    "print(data.unstack(0).swaplevel(0,1,axis=1).sort_index(axis=1).to_latex(bold_rows=True, na_rep=\"-\"))"
   ]
  },
  {
   "cell_type": "code",
   "execution_count": 88,
   "metadata": {},
   "outputs": [
    {
     "name": "stdout",
     "output_type": "stream",
     "text": [
      "\\begin{tabular}{llrrrr}\n",
      "\\toprule\n",
      "    & \\textbf{G} & \\multicolumn{2}{l}{1} & \\multicolumn{2}{l}{2} \\\\\n",
      "    & {} &       LP &    Lag &       LP &    Lag \\\\\n",
      "\\textbf{N} & \\textbf{M} &          &        &          &        \\\\\n",
      "\\midrule\n",
      "\\textbf{20 } & \\textbf{12 } &    0.229 &  0.003 &    0.233 &  0.003 \\\\\n",
      "    & \\textbf{20 } &    0.491 &  0.004 &    0.508 &  0.005 \\\\\n",
      "    & \\textbf{28 } &    0.796 &  0.004 &    0.813 &  0.005 \\\\\n",
      "\\textbf{40 } & \\textbf{24 } &    2.293 &  0.007 &    2.387 &  0.007 \\\\\n",
      "    & \\textbf{40 } &    4.851 &  0.008 &    5.564 &  0.009 \\\\\n",
      "    & \\textbf{56 } &   12.329 &  0.012 &   13.366 &  0.011 \\\\\n",
      "\\textbf{80 } & \\textbf{48 } &   42.581 &  0.021 &   34.147 &  0.023 \\\\\n",
      "    & \\textbf{80 } &  147.968 &  0.030 &  122.535 &  0.029 \\\\\n",
      "    & \\textbf{112} &  364.640 &  0.031 &  319.155 &  0.044 \\\\\n",
      "\\textbf{100} & \\textbf{60 } &   77.419 &  0.031 &  128.745 &  0.030 \\\\\n",
      "    & \\textbf{100} &  380.672 &  0.053 &  208.070 &  0.050 \\\\\n",
      "    & \\textbf{140} &        - &  0.058 &        - &  0.054 \\\\\n",
      "\\bottomrule\n",
      "\\end{tabular}\n",
      "\n"
     ]
    }
   ],
   "source": [
    "data = pd.DataFrame(index=lr.index)\n",
    "data['Lag'] = lr['Time']\n",
    "data['LP'] = lp['Time']\n",
    "\n",
    "data = data.reset_index(level=3, drop=True)\n",
    "data = data.reset_index()\n",
    "\n",
    "data = data.groupby(['G', 'N', 'M']).mean().round(3)\n",
    "\n",
    "print(data.unstack(0).swaplevel(0,1,axis=1).sort_index(axis=1).to_latex(bold_rows=True, na_rep=\"-\"))"
   ]
  },
  {
   "cell_type": "code",
   "execution_count": 167,
   "metadata": {},
   "outputs": [
    {
     "data": {
      "image/png": "[encoded data removed]",
      "text/plain": [
       "<Figure size 1080x432 with 1 Axes>"
      ]
     },
     "metadata": {
      "needs_background": "light"
     },
     "output_type": "display_data"
    }
   ],
   "source": [
    "import matplotlib.pyplot as plt\n",
    "import numpy as np\n",
    "\n",
    "fig, axs = plt.subplots(1,1, figsize=(15,6))\n",
    "\n",
    "lp_graph = lp.reset_index()\n",
    "lp_graph['n'] = lp_graph['N'] + lp_graph['M']\n",
    "lp_graph = lp_graph[['Time', 'n']]\n",
    "\n",
    "n, time = lp_graph['n'], lp_graph['Time'].values\n",
    "axs.scatter(n, np.log(time), label=\"Relaxação Linear\", s=10)\n",
    "\n",
    "lr_graph = lr.reset_index()\n",
    "lr_graph['n'] = lr_graph['N'] + lr_graph['M']\n",
    "lr_graph = lr_graph[['Time', 'n']] \n",
    "\n",
    "n, time = lr_graph['n'], lr_graph['Time'].values\n",
    "axs.scatter(n, np.log(time), label=\"Relaxação Lagrangiana\", s=10)\n",
    "\n",
    "axs.set_xlabel(\"Nº de terefas\", fontsize=14)\n",
    "axs.set_ylabel(\"log(Tempo) (s)\", fontsize=14)\n",
    "axs.legend(fontsize=11)\n",
    "axs.set_title(\"Nº de tarefas X Tempo execução\", fontsize=20)\n",
    "\n",
    "plt.savefig(\"imgs/meanTime.png\")"
   ]
  },
  {
   "cell_type": "code",
   "execution_count": 143,
   "metadata": {},
   "outputs": [
    {
     "data": {
      "text/html": [
       "<div>\n",
       "<style scoped>\n",
       "    .dataframe tbody tr th:only-of-type {\n",
       "        vertical-align: middle;\n",
       "    }\n",
       "\n",
       "    .dataframe tbody tr th {\n",
       "        vertical-align: top;\n",
       "    }\n",
       "\n",
       "    .dataframe thead th {\n",
       "        text-align: right;\n",
       "    }\n",
       "</style>\n",
       "<table border=\"1\" class=\"dataframe\">\n",
       "  <thead>\n",
       "    <tr style=\"text-align: right;\">\n",
       "      <th></th>\n",
       "      <th>Time</th>\n",
       "      <th>n</th>\n",
       "    </tr>\n",
       "  </thead>\n",
       "  <tbody>\n",
       "    <tr>\n",
       "      <th>0</th>\n",
       "      <td>0.192121</td>\n",
       "      <td>32</td>\n",
       "    </tr>\n",
       "    <tr>\n",
       "      <th>1</th>\n",
       "      <td>0.247809</td>\n",
       "      <td>32</td>\n",
       "    </tr>\n",
       "    <tr>\n",
       "      <th>2</th>\n",
       "      <td>0.246652</td>\n",
       "      <td>32</td>\n",
       "    </tr>\n",
       "    <tr>\n",
       "      <th>3</th>\n",
       "      <td>0.224723</td>\n",
       "      <td>32</td>\n",
       "    </tr>\n",
       "    <tr>\n",
       "      <th>4</th>\n",
       "      <td>0.262246</td>\n",
       "      <td>32</td>\n",
       "    </tr>\n",
       "    <tr>\n",
       "      <th>...</th>\n",
       "      <td>...</td>\n",
       "      <td>...</td>\n",
       "    </tr>\n",
       "    <tr>\n",
       "      <th>61</th>\n",
       "      <td>681.604223</td>\n",
       "      <td>200</td>\n",
       "    </tr>\n",
       "    <tr>\n",
       "      <th>62</th>\n",
       "      <td>263.841066</td>\n",
       "      <td>200</td>\n",
       "    </tr>\n",
       "    <tr>\n",
       "      <th>63</th>\n",
       "      <td>286.485149</td>\n",
       "      <td>200</td>\n",
       "    </tr>\n",
       "    <tr>\n",
       "      <th>64</th>\n",
       "      <td>146.547256</td>\n",
       "      <td>200</td>\n",
       "    </tr>\n",
       "    <tr>\n",
       "      <th>65</th>\n",
       "      <td>191.178207</td>\n",
       "      <td>200</td>\n",
       "    </tr>\n",
       "  </tbody>\n",
       "</table>\n",
       "<p>66 rows × 2 columns</p>\n",
       "</div>"
      ],
      "text/plain": [
       "          Time    n\n",
       "0     0.192121   32\n",
       "1     0.247809   32\n",
       "2     0.246652   32\n",
       "3     0.224723   32\n",
       "4     0.262246   32\n",
       "..         ...  ...\n",
       "61  681.604223  200\n",
       "62  263.841066  200\n",
       "63  286.485149  200\n",
       "64  146.547256  200\n",
       "65  191.178207  200\n",
       "\n",
       "[66 rows x 2 columns]"
      ]
     },
     "execution_count": 143,
     "metadata": {},
     "output_type": "execute_result"
    }
   ],
   "source": [
    "lp_graph = lp.reset_index()\n",
    "lp_graph['n'] = lp_graph['N'] + lp_graph['M']\n",
    "lp_graph = lp_graph[['Time', 'n']]\n",
    "\n",
    "lp_graph"
   ]
  }
 ],
 "metadata": {
  "kernelspec": {
   "display_name": "Python 3",
   "language": "python",
   "name": "python3"
  },
  "language_info": {
   "codemirror_mode": {
    "name": "ipython",
    "version": 3
   },
   "file_extension": ".py",
   "mimetype": "text/x-python",
   "name": "python",
   "nbconvert_exporter": "python",
   "pygments_lexer": "ipython3",
   "version": "3.6.8"
  },
  "toc": {
   "base_numbering": 1,
   "nav_menu": {},
   "number_sections": true,
   "sideBar": true,
   "skip_h1_title": false,
   "title_cell": "Table of Contents",
   "title_sidebar": "Contents",
   "toc_cell": false,
   "toc_position": {},
   "toc_section_display": true,
   "toc_window_display": false
  }
 },
 "nbformat": 4,
 "nbformat_minor": 2
}
